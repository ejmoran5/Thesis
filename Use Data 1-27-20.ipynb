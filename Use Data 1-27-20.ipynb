{
 "cells": [
  {
   "cell_type": "code",
   "execution_count": 1,
   "metadata": {},
   "outputs": [],
   "source": [
    "import rasterio\n",
    "import rasterio.transform\n",
    "import rasterio.mask\n",
    "import fiona\n",
    "import shapely\n",
    "import shapely.geometry\n",
    "from shapely.geometry import MultiPolygon, Polygon\n",
    "import pyproj\n",
    "\n",
    "import pandas as pd\n",
    "\n",
    "from matplotlib import pyplot as plt\n",
    "import numpy as np\n",
    "import mpl_toolkits.basemap as pbm\n",
    "\n",
    "import rasterio.features\n",
    "import rasterio.windows\n",
    "from rasterio.windows import Window"
   ]
  },
  {
   "cell_type": "code",
   "execution_count": 3,
   "metadata": {},
   "outputs": [],
   "source": [
    "df_pop = pd.read_csv(r'..\\Notebooks\\pop_dataframe.csv')\n",
    "df_imp = pd.read_csv(r'..\\Notebooks\\imp_dataframe.csv')"
   ]
  },
  {
   "cell_type": "code",
   "execution_count": 6,
   "metadata": {},
   "outputs": [
    {
     "name": "stdout",
     "output_type": "stream",
     "text": [
      "                                    Name  Area of Land  Number of pixels  \\\n",
      "0                          Rochester, MN    6415412346             10462   \n",
      "1                            Raleigh, NC    5485063049              7979   \n",
      "2                         Rapid City, SD   20213988388             33027   \n",
      "3                          Rochester, NY    8459578202             13807   \n",
      "4                            Reading, PA    2218035729              3427   \n",
      "..                                   ...           ...               ...   \n",
      "373            Daphne-Fairhope-Foley, AL    4117605847              5952   \n",
      "374  Davenport-Moline-Rock Island, IA-IL    5878605797              9294   \n",
      "375                           Dayton, OH    3320520332              5065   \n",
      "376                          Decatur, AL    3289461477              4786   \n",
      "377                          Decatur, IL    1503973504              2311   \n",
      "\n",
      "     Number of nan pixels      Data sum  \n",
      "0                    7823  2.028440e+05  \n",
      "1                    6661  8.719708e+05  \n",
      "2                   13597  1.306001e+05  \n",
      "3                   17717  1.170947e+06  \n",
      "4                    3833  4.131026e+05  \n",
      "..                    ...           ...  \n",
      "373                  5692  1.532528e+05  \n",
      "374                  3930  4.146173e+05  \n",
      "375                  2891  8.931284e+05  \n",
      "376                  2592  1.624013e+05  \n",
      "377                   531  1.232383e+05  \n",
      "\n",
      "[378 rows x 5 columns]\n",
      "                                    Name  Area of Land  Number of pixels  \\\n",
      "0                          Rochester, MN    6415412346             10462   \n",
      "1                            Raleigh, NC    5485063049              7979   \n",
      "2                         Rapid City, SD   20213988388             33027   \n",
      "3                          Rochester, NY    8459578202             13807   \n",
      "4                            Reading, PA    2218035729              3427   \n",
      "..                                   ...           ...               ...   \n",
      "373            Daphne-Fairhope-Foley, AL    4117605847              5952   \n",
      "374  Davenport-Moline-Rock Island, IA-IL    5878605797              9294   \n",
      "375                           Dayton, OH    3320520332              5065   \n",
      "376                          Decatur, AL    3289461477              4786   \n",
      "377                          Decatur, IL    1503973504              2311   \n",
      "\n",
      "     Number of nan pixels      Data sum  \n",
      "0                    7823  2.028440e+05  \n",
      "1                    6661  8.719708e+05  \n",
      "2                   13597  1.306001e+05  \n",
      "3                   17717  1.170947e+06  \n",
      "4                    3833  4.131026e+05  \n",
      "..                    ...           ...  \n",
      "373                  5692  1.532528e+05  \n",
      "374                  3930  4.146173e+05  \n",
      "375                  2891  8.931284e+05  \n",
      "376                  2592  1.624013e+05  \n",
      "377                   531  1.232383e+05  \n",
      "\n",
      "[378 rows x 5 columns]\n"
     ]
    }
   ],
   "source": [
    "print(df_pop)\n",
    "print(df_imp)"
   ]
  },
  {
   "cell_type": "code",
   "execution_count": 11,
   "metadata": {},
   "outputs": [
    {
     "data": {
      "image/png": "[encoded data removed]",
      "text/plain": [
       "<Figure size 432x288 with 1 Axes>"
      ]
     },
     "metadata": {
      "needs_background": "light"
     },
     "output_type": "display_data"
    }
   ],
   "source": [
    "plt.scatter(np.log(df_pop['Data sum']), np.log(df_imp['Area of Land']))\n",
    "plt.show()"
   ]
  },
  {
   "cell_type": "code",
   "execution_count": null,
   "metadata": {},
   "outputs": [],
   "source": []
  }
 ],
 "metadata": {
  "kernelspec": {
   "display_name": "Python (gis)",
   "language": "python",
   "name": "gis"
  },
  "language_info": {
   "codemirror_mode": {
    "name": "ipython",
    "version": 3
   },
   "file_extension": ".py",
   "mimetype": "text/x-python",
   "name": "python",
   "nbconvert_exporter": "python",
   "pygments_lexer": "ipython3",
   "version": "3.7.3"
  }
 },
 "nbformat": 4,
 "nbformat_minor": 2
}
